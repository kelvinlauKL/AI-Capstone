{
 "cells": [
  {
   "cell_type": "code",
   "execution_count": 288,
   "id": "ed4b99b5-f6ef-420b-8b34-23e1eec3041c",
   "metadata": {},
   "outputs": [
    {
     "name": "stdout",
     "output_type": "stream",
     "text": [
      "Note: you may need to restart the kernel to use updated packages.\n"
     ]
    }
   ],
   "source": [
    "pip install -qU langchain dotenv requests pandas"
   ]
  },
  {
   "cell_type": "code",
   "execution_count": 289,
   "id": "70f0086a-c170-4e65-892b-8b00e9d0b22e",
   "metadata": {},
   "outputs": [
    {
     "data": {
      "text/plain": [
       "True"
      ]
     },
     "execution_count": 289,
     "metadata": {},
     "output_type": "execute_result"
    }
   ],
   "source": [
    "from dotenv import load_dotenv\n",
    "load_dotenv()"
   ]
  },
  {
   "cell_type": "code",
   "execution_count": 290,
   "id": "77544df8-179d-481f-8fb0-9fc0820a3f22",
   "metadata": {},
   "outputs": [],
   "source": [
    "import os\n",
    "\n",
    "# Environment\n",
    "SENTRY_AUTH_TOKEN = os.environ.get(\"SENTRY_AUTH_TOKEN\")\n",
    "OPENAI_API_KEY = os.environ.get(\"OPENAI_API_KEY\")\n",
    "\n",
    "# Sentry\n",
    "SENTRY_URL = \"https://sentry.io/api/0/projects/coffeeteastudios/apple-ios/issues/\"\n",
    "SENTRY_HEADERS = {\n",
    "    \"Authorization\": f\"Bearer {SENTRY_AUTH_TOKEN}\",\n",
    "    \"Content-Type\": \"application/json\"\n",
    "}\n",
    "\n",
    "# Trello\n",
    "TRELLO_API_KEY = os.environ.get(\"TRELLO_API_KEY\")\n",
    "TRELLO_API_TOKEN = os.environ.get(\"TRELLO_API_TOKEN\")"
   ]
  },
  {
   "cell_type": "code",
   "execution_count": 291,
   "id": "fcad46f5-a5cf-4062-8946-3b3f7bc99347",
   "metadata": {},
   "outputs": [],
   "source": [
    "from langchain_openai import ChatOpenAI\n",
    "\n",
    "llm = ChatOpenAI(api_key=OPENAI_API_KEY, model=\"gpt-4o\", temperature=0)"
   ]
  },
  {
   "cell_type": "code",
   "execution_count": 292,
   "id": "24a70d4b-b2ec-4c45-81f6-3dc3d1563d6f",
   "metadata": {},
   "outputs": [],
   "source": [
    "# Models\n",
    "\n",
    "from langchain.output_parsers import PydanticOutputParser\n",
    "from pydantic import BaseModel, Field\n",
    "from typing import List\n",
    "from typing import Optional\n",
    "\n",
    "class Issue(BaseModel):\n",
    "    id: str = Field(..., description=\"The id of the issue.\")\n",
    "    title: str = Field(..., description=\"The title of the issue.\")\n",
    "    number_of_occurrences: int = Field(..., description=\"The number of occurrences this issue has.\")\n",
    "    priority: int = Field(..., description=\"The priority of this issue from starting from 0. 0 is the highest priority.\")\n",
    "\n",
    "class IssueList(BaseModel):\n",
    "    issues: List[Issue] = Field(default_factory=list, description=\"A list of issues from Sentry.\")\n",
    "\n",
    "class JiraTicket(BaseModel):\n",
    "    id: str = Field(..., description=\"The id of the ticket.\")\n",
    "    summary: str = Field(..., description=\"A brief summary or title of the issue.\")\n",
    "    description: str = Field(..., description=\"Details of the issue.\")\n",
    "    assignee: str = Field(..., description=\"The assignee for this ticket.\")\n",
    "\n",
    "class AnalysisState(BaseModel):\n",
    "    issues: List[Issue] = Field(default_factory=list, description=\"A collection of issues from Sentry.\")\n",
    "    high_priority_frontend_issue: Optional[Issue] = Field(None, description=\"The top issue that should be assigned to a frontend engineer.\")\n",
    "    frontend_jira_ticket: Optional[JiraTicket] = Field(None, description=\"A Jira ticket for frontend to address.\")\n",
    "    error_message: Optional[str] = Field(None, description=\"The error message if an error has occurred.\")\n",
    "    final_result: Optional[str] = Field(None, description=\"The summary of actions taken by the ai agent.\")\n",
    "\n",
    "issue_parser = PydanticOutputParser(pydantic_object=Issue)\n",
    "issue_format_instructions = issue_parser.get_format_instructions()\n",
    "\n",
    "issue_list_parser = PydanticOutputParser(pydantic_object=IssueList)\n",
    "issue_list_format_instructions = issue_list_parser.get_format_instructions()\n",
    "\n",
    "jira_parser = PydanticOutputParser(pydantic_object=JiraTicket)\n",
    "jira_format_instructions = jira_parser.get_format_instructions()\n",
    "\n",
    "analysis_parser = PydanticOutputParser(pydantic_object=AnalysisState)\n",
    "analysis_format_instructions = analysis_parser.get_format_instructions()"
   ]
  },
  {
   "cell_type": "code",
   "execution_count": 293,
   "id": "47c6846b-86d1-49a4-8ecf-d74f2c5ddcf0",
   "metadata": {},
   "outputs": [],
   "source": [
    "# Sentry Methods\n",
    "import requests\n",
    "\n",
    "def get_recent_sentry_issues() -> dict:\n",
    "    response = requests.get(SENTRY_URL, headers=SENTRY_HEADERS)\n",
    "    if response.status_code != 200:\n",
    "        raise Exception(f\"Error fetching Sentry issue: {response.status_code} - {response.text}\")\n",
    "    return response.json()"
   ]
  },
  {
   "cell_type": "code",
   "execution_count": 294,
   "id": "9cc69923-a10d-4e54-9a14-094a11f54edf",
   "metadata": {},
   "outputs": [],
   "source": [
    "from langchain_core.messages import HumanMessage\n",
    "\n",
    "def recent_sentry_issues(state: AnalysisState) -> AnalysisState:\n",
    "    \"\"\"\n",
    "    Retrieve and analyze recent Sentry issues.\n",
    "    \"\"\"\n",
    "    # Renamed local variable to avoid confusion with the function name.\n",
    "    raw_sentry_issues = get_recent_sentry_issues()\n",
    "    prompt = f\"\"\"\n",
    "    You are a technical project manager. Analyze the following Sentry issues:\n",
    "    \"{raw_sentry_issues}\"\n",
    "    Look for patterns in the logs and try to assign an id, title, and priority relative to the other issues. \n",
    "    Each issue should have a unique priority.\n",
    "    {issue_list_format_instructions}\n",
    "    \"\"\"\n",
    "\n",
    "    message = HumanMessage(content=prompt)\n",
    "    response = llm.invoke([message])\n",
    "    reply = response.content.strip()\n",
    "\n",
    "    try:\n",
    "        parsed_result = issue_list_parser.parse(reply)\n",
    "        state.issues = parsed_result.issues\n",
    "    except Exception as e:\n",
    "        state.error_message = f\"Failed at recent_sentry_issues. Error: {e}\"\n",
    "    return state\n",
    "\n",
    "\n",
    "def prioritized_sentry_issues(state: AnalysisState) -> AnalysisState:\n",
    "    \"\"\"\n",
    "    Determine the highest priority Sentry issue for a frontend engineer.\n",
    "    \"\"\"\n",
    "    prompt = f\"\"\"\n",
    "    You are an engineering manager. Analyze the following Sentry issues:\n",
    "    \"{state.issues}\"\n",
    "    Identify the highest priority issue that a frontend engineer should work on. Issues with 4XX status code are frontend issues. \n",
    "    {issue_format_instructions}\n",
    "    \"\"\"\n",
    "\n",
    "    message = HumanMessage(content=prompt)\n",
    "    response = llm.invoke([message])\n",
    "    reply = response.content.strip()\n",
    "\n",
    "    try:\n",
    "        parsed_result = issue_parser.parse(reply)\n",
    "        state.high_priority_frontend_issue = parsed_result\n",
    "    except Exception as e:\n",
    "        state.error_message = f\"Failed to find the highest frontend issue. Error: {e}\"\n",
    "    return state\n",
    "\n",
    "\n",
    "def create_jira_ticket(state: AnalysisState) -> AnalysisState:\n",
    "    \"\"\"\n",
    "    Create a JIRA ticket for the highest priority frontend issue.\n",
    "\n",
    "    This function uses the highest priority frontend issue from the state to create a JIRA ticket.\n",
    "    \"\"\"\n",
    "    issue = state.high_priority_frontend_issue\n",
    "    jira_ticket = JiraTicket(\n",
    "        id=issue.id,\n",
    "        summary=issue.title,\n",
    "        description=f\"This frontend issue has occurred {issue.number_of_occurrences} times.\",\n",
    "        assignee=\"kelvin\"\n",
    "    )\n",
    "    state.frontend_jira_ticket = jira_ticket\n",
    "    return state\n",
    "\n",
    "\n",
    "def post_jira_ticket_to_trello(state: AnalysisState) -> AnalysisState:\n",
    "    \"\"\"\n",
    "    This function makes creates a new Trello card, capturing the top frontend priority issue.\n",
    "    \"\"\"\n",
    "    url = \"https://api.trello.com/1/cards\"\n",
    "    ticket = state.frontend_jira_ticket\n",
    "\n",
    "    payload = {\n",
    "        \"idList\": \"67d10aa8420fd0490816c460\",\n",
    "        \"name\": ticket.summary,\n",
    "        \"desc\": f\"Ticket ID: {ticket.id}\\n\\nDescription: {ticket.description}\\n\\nAssignee: {ticket.assignee}\",\n",
    "        \"key\": TRELLO_API_KEY,\n",
    "        \"token\": TRELLO_API_TOKEN,\n",
    "    }\n",
    "    \n",
    "    try:\n",
    "        response = requests.post(url, data=payload)\n",
    "        response.raise_for_status()\n",
    "    except requests.exceptions.HTTPError as http_err:\n",
    "        state.error_message = f\"HTTP error occurred: {http_err}. Response: {response.text}\"\n",
    "    except Exception as err:\n",
    "        state.error_message = f\"An error occurred: {err}\"\n",
    "    \n",
    "    return state\n",
    "\n",
    "\n",
    "def summarizer(state: AnalysisState) -> AnalysisState:\n",
    "    \"\"\"\n",
    "    Generates a summary of what the agent did. \n",
    "    \"\"\"\n",
    "    prompt = f\"\"\"\n",
    "    Based on the following data \"{state}\", can you summarize the things that were done? Ignore fields that are None.\n",
    "    \"\"\"\n",
    "\n",
    "    message = HumanMessage(content=prompt)\n",
    "    response = llm.invoke([message])\n",
    "    reply = response.content.strip()\n",
    "    state.final_result = reply\n",
    "    return state"
   ]
  },
  {
   "cell_type": "code",
   "execution_count": 295,
   "id": "c28fb6cb-5629-4c09-b331-36954a4f9931",
   "metadata": {},
   "outputs": [],
   "source": [
    "# Graph assembly\n",
    "from langgraph.graph import StateGraph, START, END\n",
    "\n",
    "graph = StateGraph(AnalysisState)\n",
    "\n",
    "graph.add_node(\"recent_sentry_issues\", recent_sentry_issues)\n",
    "graph.add_node(\"summarizer\", summarizer)\n",
    "graph.add_node(\"prioritized_sentry_issues\", prioritized_sentry_issues)\n",
    "graph.add_node(\"create_jira_ticket\", create_jira_ticket)\n",
    "graph.add_node(\"post_jira_ticket_to_trello\", post_jira_ticket_to_trello)\n",
    "\n",
    "graph.add_edge(START, \"recent_sentry_issues\")\n",
    "graph.add_conditional_edges(\n",
    "    \"recent_sentry_issues\",\n",
    "    lambda state: state.error_message == None,\n",
    "    {True: \"prioritized_sentry_issues\", False: END}\n",
    ")\n",
    "\n",
    "graph.add_conditional_edges(\n",
    "    \"prioritized_sentry_issues\",\n",
    "    lambda state: state.error_message == None,\n",
    "    {True: \"create_jira_ticket\", False: END}\n",
    ")\n",
    "    \n",
    "graph.add_edge(\"create_jira_ticket\", \"post_jira_ticket_to_trello\")\n",
    "graph.add_conditional_edges(\n",
    "    \"post_jira_ticket_to_trello\",\n",
    "    lambda state: state.error_message == None,\n",
    "    {True: \"summarizer\", False: END}\n",
    ")\n",
    "\n",
    "graph.add_edge(\"summarizer\", END)\n",
    "\n",
    "app = graph.compile()"
   ]
  },
  {
   "cell_type": "code",
   "execution_count": 296,
   "id": "e3ebe623-0023-4813-bbfd-25138a8710b2",
   "metadata": {},
   "outputs": [
    {
     "data": {
      "image/png": "[encoded data removed]",
      "text/plain": [
       "<IPython.core.display.Image object>"
      ]
     },
     "metadata": {},
     "output_type": "display_data"
    }
   ],
   "source": [
    "from IPython.display import Image, display\n",
    "\n",
    "display(Image(app.get_graph().draw_mermaid_png()))"
   ]
  },
  {
   "cell_type": "code",
   "execution_count": 297,
   "id": "fcdfa4e2-07ae-457b-ad58-da962e49fad1",
   "metadata": {},
   "outputs": [],
   "source": [
    "def run_agent():\n",
    "    initial_state = AnalysisState(issues=[])\n",
    "    thread = {\"configurable\": {\"thread_id\": \"1\"}}\n",
    "    response = app.invoke(initial_state)\n",
    "    return response"
   ]
  },
  {
   "cell_type": "code",
   "execution_count": 303,
   "id": "aabff159-542f-4d10-9977-748723e73613",
   "metadata": {},
   "outputs": [],
   "source": [
    "import json\n",
    "\n",
    "response = run_agent()"
   ]
  },
  {
   "cell_type": "code",
   "execution_count": 304,
   "id": "73a088c2-2b5b-4a20-bed0-487864180b1e",
   "metadata": {},
   "outputs": [
    {
     "name": "stdout",
     "output_type": "stream",
     "text": [
      "Based on the provided data, the following actions were taken:\n",
      "\n",
      "1. A list of issues was identified, each with a unique ID, title, number of occurrences, and priority level. The issues range from server errors like \"504 Gateway Timeout\" and \"500 Internal Server Error\" to client errors like \"404 Not Found\" and \"400 Bad Request.\"\n",
      "\n",
      "2. A specific high-priority frontend issue was highlighted: the \"404 Not Found\" error, which occurred 53 times and was assigned a priority level of 3.\n",
      "\n",
      "3. A Jira ticket was created for the high-priority frontend issue. The ticket includes:\n",
      "   - ID: 6376845753\n",
      "   - Summary: \"404 Not Found: The requested resource could not be found on this server.\"\n",
      "   - Description: \"This frontend issue has occurred 53 times.\"\n",
      "   - Assignee: Kelvin\n",
      "\n",
      "These actions indicate a focus on addressing the \"404 Not Found\" issue due to its high priority and frequency of occurrence.\n"
     ]
    }
   ],
   "source": [
    "print(response.get(\"final_result\"))"
   ]
  },
  {
   "cell_type": "code",
   "execution_count": null,
   "id": "d48e7cff-4d9b-4d4e-98b9-91092ee4dee2",
   "metadata": {},
   "outputs": [],
   "source": []
  },
  {
   "cell_type": "code",
   "execution_count": null,
   "id": "aa6717dd-66c0-432c-8049-87d9a47bbf9e",
   "metadata": {},
   "outputs": [],
   "source": []
  },
  {
   "cell_type": "code",
   "execution_count": null,
   "id": "76d96878-2ba1-421c-a810-4704a59ba0cd",
   "metadata": {},
   "outputs": [],
   "source": []
  }
 ],
 "metadata": {
  "kernelspec": {
   "display_name": "Python 3 (ipykernel)",
   "language": "python",
   "name": "python3"
  },
  "language_info": {
   "codemirror_mode": {
    "name": "ipython",
    "version": 3
   },
   "file_extension": ".py",
   "mimetype": "text/x-python",
   "name": "python",
   "nbconvert_exporter": "python",
   "pygments_lexer": "ipython3",
   "version": "3.12.0"
  }
 },
 "nbformat": 4,
 "nbformat_minor": 5
}

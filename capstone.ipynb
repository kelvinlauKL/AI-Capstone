{
 "cells": [
  {
   "cell_type": "code",
   "execution_count": 2,
   "id": "ed4b99b5-f6ef-420b-8b34-23e1eec3041c",
   "metadata": {},
   "outputs": [
    {
     "name": "stdout",
     "output_type": "stream",
     "text": [
      "Note: you may need to restart the kernel to use updated packages.\n"
     ]
    }
   ],
   "source": [
    "pip install -qU langchain dotenv requests pandas"
   ]
  },
  {
   "cell_type": "code",
   "execution_count": 3,
   "id": "70f0086a-c170-4e65-892b-8b00e9d0b22e",
   "metadata": {},
   "outputs": [
    {
     "data": {
      "text/plain": [
       "True"
      ]
     },
     "execution_count": 3,
     "metadata": {},
     "output_type": "execute_result"
    }
   ],
   "source": [
    "from dotenv import load_dotenv\n",
    "load_dotenv()"
   ]
  },
  {
   "cell_type": "code",
   "execution_count": 4,
   "id": "77544df8-179d-481f-8fb0-9fc0820a3f22",
   "metadata": {},
   "outputs": [],
   "source": [
    "import os\n",
    "\n",
    "SENTRY_AUTH_TOKEN = os.environ.get(\"SENTRY_AUTH_TOKEN\")"
   ]
  },
  {
   "cell_type": "code",
   "execution_count": null,
   "id": "47c6846b-86d1-49a4-8ecf-d74f2c5ddcf0",
   "metadata": {},
   "outputs": [],
   "source": [
    "headers = {\n",
    "    \"Authorization\": f\"Bearer {SENTRY_AUTH_TOKEN}\",\n",
    "    \"Content-Type\": \"application/json\"\n",
    "}\n",
    "\n",
    "base_url = f\"https://sentry.io/api/0/projects/coffeeteastudios"
   ]
  }
 ],
 "metadata": {
  "kernelspec": {
   "display_name": "Python 3 (ipykernel)",
   "language": "python",
   "name": "python3"
  },
  "language_info": {
   "codemirror_mode": {
    "name": "ipython",
    "version": 3
   },
   "file_extension": ".py",
   "mimetype": "text/x-python",
   "name": "python",
   "nbconvert_exporter": "python",
   "pygments_lexer": "ipython3",
   "version": "3.12.0"
  }
 },
 "nbformat": 4,
 "nbformat_minor": 5
}
